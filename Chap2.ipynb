{
 "cells": [
  {
   "cell_type": "markdown",
   "metadata": {},
   "source": [
    "# 第二章Python資料表示與運算"
   ]
  },
  {
   "cell_type": "markdown",
   "metadata": {},
   "source": [
    "# 註解"
   ]
  },
  {
   "cell_type": "code",
   "execution_count": 1,
   "metadata": {},
   "outputs": [
    {
     "name": "stdout",
     "output_type": "stream",
     "text": [
      "8\n"
     ]
    }
   ],
   "source": [
    "#這是單行註解\n",
    "a=3\n",
    "b=5\n",
    "print(a+b)"
   ]
  },
  {
   "cell_type": "code",
   "execution_count": 2,
   "metadata": {},
   "outputs": [
    {
     "name": "stdout",
     "output_type": "stream",
     "text": [
      "8\n"
     ]
    }
   ],
   "source": [
    "'''\n",
    "多行註解\n",
    "第一行註解\n",
    "第二行註解\n",
    "......\n",
    "第N行註解\n",
    "'''\n",
    "a=3\n",
    "b=5\n",
    "print(a+b)"
   ]
  },
  {
   "cell_type": "code",
   "execution_count": 4,
   "metadata": {},
   "outputs": [
    {
     "name": "stdout",
     "output_type": "stream",
     "text": [
      "10\n",
      "1\n"
     ]
    }
   ],
   "source": [
    "#兩數交換\n",
    "x=1\n",
    "y=10\n",
    "z=x\n",
    "x=y\n",
    "y=z\n",
    "print(x)\n",
    "print(y)"
   ]
  },
  {
   "cell_type": "code",
   "execution_count": 9,
   "metadata": {},
   "outputs": [
    {
     "name": "stdout",
     "output_type": "stream",
     "text": [
      "10\n",
      "1\n"
     ]
    }
   ],
   "source": [
    "x=1\n",
    "y=10\n",
    "x,y=y,x\n",
    "print(x)\n",
    "print(y)"
   ]
  },
  {
   "cell_type": "markdown",
   "metadata": {},
   "source": [
    "## 平行設定"
   ]
  },
  {
   "cell_type": "code",
   "execution_count": 10,
   "metadata": {},
   "outputs": [
    {
     "name": "stdout",
     "output_type": "stream",
     "text": [
      "3\n",
      "4\n",
      "5\n"
     ]
    }
   ],
   "source": [
    "x, y, z =3, 4, 5\n",
    "print(x)\n",
    "print(y)\n",
    "print(z)"
   ]
  },
  {
   "cell_type": "code",
   "execution_count": 11,
   "metadata": {},
   "outputs": [
    {
     "name": "stdout",
     "output_type": "stream",
     "text": [
      "4 8 125\n"
     ]
    }
   ],
   "source": [
    "x, y, z =3, 4, 5\n",
    "x+=1\n",
    "y*=2\n",
    "z**=3\n",
    "print(x, y, z)"
   ]
  },
  {
   "cell_type": "markdown",
   "metadata": {},
   "source": [
    "# 變數的應用\n",
    "## Q:邊長為3,4,5的三角形,其面積大小為何?\n",
    "### s=(a+b+c)/2 面積s=s(s-a)(s-b)(s-c)開根號 海龍公式"
   ]
  },
  {
   "cell_type": "code",
   "execution_count": 13,
   "metadata": {},
   "outputs": [
    {
     "name": "stdout",
     "output_type": "stream",
     "text": [
      "6.0\n"
     ]
    }
   ],
   "source": [
    "import math\n",
    "a,b,c=3,4,5\n",
    "s=(a+b+c)/2\n",
    "area=math.sqrt(s*(s-a)*(s-b)*(s-c))\n",
    "print(area)"
   ]
  },
  {
   "cell_type": "markdown",
   "metadata": {},
   "source": [
    "## Python使用動態類型變數,變數使用前不需要宣告資料型態"
   ]
  },
  {
   "cell_type": "code",
   "execution_count": 14,
   "metadata": {},
   "outputs": [
    {
     "name": "stdout",
     "output_type": "stream",
     "text": [
      "<class 'int'>\n",
      "<class 'str'>\n",
      "140735934218544 140735934218544\n"
     ]
    }
   ],
   "source": [
    "x=254\n",
    "print(type(x))\n",
    "y='covid-19'\n",
    "print(type(y))\n",
    "print(id(x),id(x))"
   ]
  },
  {
   "cell_type": "markdown",
   "metadata": {},
   "source": [
    "## 數值資料的計算\n",
    "### 半徑為4.5,高度為4.5的圓錐體體積和"
   ]
  },
  {
   "cell_type": "code",
   "execution_count": 15,
   "metadata": {},
   "outputs": [
    {
     "name": "stdout",
     "output_type": "stream",
     "text": [
      "95.42587685278995\n"
     ]
    }
   ],
   "source": [
    "import math\n",
    "print((4.5*4.5*math.pi*4.5)/3)"
   ]
  },
  {
   "cell_type": "code",
   "execution_count": 17,
   "metadata": {},
   "outputs": [
    {
     "name": "stdout",
     "output_type": "stream",
     "text": [
      "5.333333333333333\n",
      "5\n",
      "1\n"
     ]
    }
   ],
   "source": [
    "x,y=16,3\n",
    "print(x/y) #求值\n",
    "print(x//y)#求商\n",
    "print(x%y) #求餘數"
   ]
  },
  {
   "cell_type": "markdown",
   "metadata": {},
   "source": [
    "## 關係運算"
   ]
  },
  {
   "cell_type": "code",
   "execution_count": 18,
   "metadata": {},
   "outputs": [
    {
     "name": "stdout",
     "output_type": "stream",
     "text": [
      "True\n",
      "False\n",
      "20\n"
     ]
    }
   ],
   "source": [
    "print(20==20)\n",
    "x,y=10,20\n",
    "print(x==y)\n",
    "x=y\n",
    "print(x)"
   ]
  },
  {
   "cell_type": "markdown",
   "metadata": {},
   "source": [
    "## 級聯比較"
   ]
  },
  {
   "cell_type": "code",
   "execution_count": 19,
   "metadata": {},
   "outputs": [
    {
     "name": "stdout",
     "output_type": "stream",
     "text": [
      "True\n"
     ]
    }
   ],
   "source": [
    "a,b,c=10,20,30\n",
    "print(a<=b<=c)"
   ]
  },
  {
   "cell_type": "code",
   "execution_count": 20,
   "metadata": {},
   "outputs": [
    {
     "name": "stdout",
     "output_type": "stream",
     "text": [
      "0.0015926269999999576\n"
     ]
    }
   ],
   "source": [
    "x=3.141592627\n",
    "print(x-3.14) #比正確值略小"
   ]
  },
  {
   "cell_type": "markdown",
   "metadata": {},
   "source": [
    "## 邏輯運算 閏年範例\n",
    "### 四年一閏 百年不閏 四百年再閏"
   ]
  },
  {
   "cell_type": "code",
   "execution_count": 22,
   "metadata": {},
   "outputs": [
    {
     "name": "stdout",
     "output_type": "stream",
     "text": [
      "True\n",
      "True\n",
      "False\n",
      "False\n"
     ]
    }
   ],
   "source": [
    "y=2020\n",
    "print(y%4==0 and y%100!=0 or y%400==0)\n",
    "y=2000\n",
    "print(y%4==0 and y%100!=0 or y%400==0)\n",
    "y=1900\n",
    "print(y%4==0 and y%100!=0 or y%400==0)\n",
    "y=2019\n",
    "print(y%4==0 and y%100!=0 or y%400==0)"
   ]
  },
  {
   "cell_type": "code",
   "execution_count": 7,
   "metadata": {},
   "outputs": [
    {
     "name": "stdout",
     "output_type": "stream",
     "text": [
      "<class 'int'>\n",
      "<class 'float'>\n",
      "123\n",
      "123.0\n",
      "123\n",
      "The value of x is 32.5 and y is 40000\n",
      "The value of x is 32.5 and y is 40000\n"
     ]
    }
   ],
   "source": [
    "x=12\n",
    "print(type(x))\n",
    "y=float(x)+0.5\n",
    "print(type(y))\n",
    "print(int('123'))\n",
    "print(float('123'))\n",
    "print(int(123.333))\n",
    "x=10*3.25  #32.5\n",
    "y=200*200  #40000\n",
    "s='The value of x is '+str(x)+' and y is '+str(y)\n",
    "print(s)\n",
    "print('The value of x is {} and y is {}'.format(x,y))"
   ]
  },
  {
   "cell_type": "markdown",
   "metadata": {},
   "source": [
    "## 非內置模組"
   ]
  },
  {
   "cell_type": "code",
   "execution_count": 8,
   "metadata": {},
   "outputs": [
    {
     "name": "stdout",
     "output_type": "stream",
     "text": [
      "3.141592653589793\n",
      "8.0\n",
      "26.423892221536985\n",
      "5.0\n"
     ]
    }
   ],
   "source": [
    "import math\n",
    "print(math.pi)\n",
    "print(math.pow(2,3))\n",
    "print(8.3*10.58*math.sin(37.0/180*math.pi)/2)\n",
    "print(math.sqrt(25))"
   ]
  },
  {
   "cell_type": "markdown",
   "metadata": {},
   "source": [
    "## 算圓面積"
   ]
  },
  {
   "cell_type": "code",
   "execution_count": 9,
   "metadata": {},
   "outputs": [
    {
     "name": "stdout",
     "output_type": "stream",
     "text": [
      "請輸入半徑：10\n",
      "圓面積為： 314.1592653589793\n"
     ]
    }
   ],
   "source": [
    "import math\n",
    "r=input(\"請輸入半徑：\")\n",
    "area=float(r)*float(r)*math.pi\n",
    "print('圓面積為：',area)"
   ]
  },
  {
   "cell_type": "code",
   "execution_count": null,
   "metadata": {},
   "outputs": [],
   "source": []
  }
 ],
 "metadata": {
  "kernelspec": {
   "display_name": "Python 3",
   "language": "python",
   "name": "python3"
  },
  "language_info": {
   "codemirror_mode": {
    "name": "ipython",
    "version": 3
   },
   "file_extension": ".py",
   "mimetype": "text/x-python",
   "name": "python",
   "nbconvert_exporter": "python",
   "pygments_lexer": "ipython3",
   "version": "3.7.4"
  }
 },
 "nbformat": 4,
 "nbformat_minor": 2
}
